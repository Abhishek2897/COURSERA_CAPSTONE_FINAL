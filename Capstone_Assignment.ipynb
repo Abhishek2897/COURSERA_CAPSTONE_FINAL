{
    "cells": [
        {
            "cell_type": "markdown",
            "metadata": {},
            "source": "# 1) this notebook is mainly used for capstone assignment and this is 1st Question for markdown"
        },
        {
            "cell_type": "code",
            "execution_count": 3,
            "metadata": {},
            "outputs": [],
            "source": "# 2)This is 2nd Question to import pandas library\nimport pandas as pd\n"
        },
        {
            "cell_type": "code",
            "execution_count": 4,
            "metadata": {},
            "outputs": [],
            "source": "# 3)This is 3rd Question to import numpy library\nimport numpy as np"
        },
        {
            "cell_type": "code",
            "execution_count": 5,
            "metadata": {},
            "outputs": [
                {
                    "name": "stdout",
                    "output_type": "stream",
                    "text": "Hello capestone project course !!\n"
                }
            ],
            "source": "#4) this is 4th question to print \nprint(\"Hello capestone project course !!\")"
        },
        {
            "cell_type": "code",
            "execution_count": null,
            "metadata": {},
            "outputs": [],
            "source": ""
        }
    ],
    "metadata": {
        "kernelspec": {
            "display_name": "Python 3.6",
            "language": "python",
            "name": "python3"
        },
        "language_info": {
            "codemirror_mode": {
                "name": "ipython",
                "version": 3
            },
            "file_extension": ".py",
            "mimetype": "text/x-python",
            "name": "python",
            "nbconvert_exporter": "python",
            "pygments_lexer": "ipython3",
            "version": "3.6.9"
        }
    },
    "nbformat": 4,
    "nbformat_minor": 1
}