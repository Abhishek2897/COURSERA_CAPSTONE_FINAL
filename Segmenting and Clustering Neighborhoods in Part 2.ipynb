{
    "cells": [
        {
            "cell_type": "markdown",
            "metadata": {
                "collapsed": true
            },
            "source": "# Segmenting and Clustering Neighborhoods in Toronto | Part-2"
        },
        {
            "cell_type": "markdown",
            "metadata": {},
            "source": "####  Adding Latitude and Longitude Co-ordinates to the DataFrame\n\nINSTALLING LIBRARIES"
        },
        {
            "cell_type": "code",
            "execution_count": 1,
            "metadata": {},
            "outputs": [
                {
                    "name": "stdout",
                    "output_type": "stream",
                    "text": "Requirement already satisfied: geocoder in /opt/conda/envs/Python36/lib/python3.6/site-packages (1.38.1)\nRequirement already satisfied: future in /opt/conda/envs/Python36/lib/python3.6/site-packages (from geocoder) (0.17.1)\nRequirement already satisfied: six in /opt/conda/envs/Python36/lib/python3.6/site-packages (from geocoder) (1.12.0)\nRequirement already satisfied: click in /opt/conda/envs/Python36/lib/python3.6/site-packages (from geocoder) (7.0)\nRequirement already satisfied: requests in /opt/conda/envs/Python36/lib/python3.6/site-packages (from geocoder) (2.21.0)\nRequirement already satisfied: ratelim in /opt/conda/envs/Python36/lib/python3.6/site-packages (from geocoder) (0.1.6)\nRequirement already satisfied: urllib3<1.25,>=1.21.1 in /opt/conda/envs/Python36/lib/python3.6/site-packages (from requests->geocoder) (1.24.1)\nRequirement already satisfied: certifi>=2017.4.17 in /opt/conda/envs/Python36/lib/python3.6/site-packages (from requests->geocoder) (2020.6.20)\nRequirement already satisfied: idna<2.9,>=2.5 in /opt/conda/envs/Python36/lib/python3.6/site-packages (from requests->geocoder) (2.8)\nRequirement already satisfied: chardet<3.1.0,>=3.0.2 in /opt/conda/envs/Python36/lib/python3.6/site-packages (from requests->geocoder) (3.0.4)\nRequirement already satisfied: decorator in /opt/conda/envs/Python36/lib/python3.6/site-packages (from ratelim->geocoder) (4.3.2)\n"
                }
            ],
            "source": "!pip install geocoder"
        },
        {
            "cell_type": "code",
            "execution_count": 5,
            "metadata": {},
            "outputs": [
                {
                    "name": "stdout",
                    "output_type": "stream",
                    "text": "Imported!\n"
                }
            ],
            "source": "import pandas as pd\nimport numpy as np\nfrom bs4 import BeautifulSoup\nimport requests\nprint(\"Imported!\")"
        },
        {
            "cell_type": "markdown",
            "metadata": {},
            "source": "### GETTING DATA"
        },
        {
            "cell_type": "code",
            "execution_count": 6,
            "metadata": {},
            "outputs": [],
            "source": "\n# getting data from internet\nwikipedia_link='https://en.wikipedia.org/wiki/List_of_postal_codes_of_Canada:_M'\nraw_wikipedia_page= requests.get(wikipedia_link).text\n\n# using beautiful soup to parse the HTML/XML codes.\nsoup = BeautifulSoup(raw_wikipedia_page,'xml')\n#print(soup.prettify())\n\n"
        },
        {
            "cell_type": "markdown",
            "metadata": {},
            "source": "## Reading the Toronto.csv which created on Part 1 Notebook (from webpage)"
        },
        {
            "cell_type": "code",
            "execution_count": 16,
            "metadata": {},
            "outputs": [
                {
                    "data": {
                        "text/html": "<div>\n<style scoped>\n    .dataframe tbody tr th:only-of-type {\n        vertical-align: middle;\n    }\n\n    .dataframe tbody tr th {\n        vertical-align: top;\n    }\n\n    .dataframe thead th {\n        text-align: right;\n    }\n</style>\n<table border=\"1\" class=\"dataframe\">\n  <thead>\n    <tr style=\"text-align: right;\">\n      <th></th>\n      <th>Postalcode</th>\n      <th>Borough</th>\n      <th>Neighborhood</th>\n    </tr>\n  </thead>\n  <tbody>\n    <tr>\n      <th>0</th>\n      <td>M1A\\n</td>\n      <td>Not assigned\\n</td>\n      <td>Not assigned\\n</td>\n    </tr>\n    <tr>\n      <th>1</th>\n      <td>M1B\\n</td>\n      <td>Scarborough\\n</td>\n      <td>Malvern, Rouge</td>\n    </tr>\n    <tr>\n      <th>2</th>\n      <td>M1C\\n</td>\n      <td>Scarborough\\n</td>\n      <td>Rouge Hill, Port Union, Highland Creek</td>\n    </tr>\n    <tr>\n      <th>3</th>\n      <td>M1E\\n</td>\n      <td>Scarborough\\n</td>\n      <td>Guildwood, Morningside, West Hill</td>\n    </tr>\n    <tr>\n      <th>4</th>\n      <td>M1G\\n</td>\n      <td>Scarborough\\n</td>\n      <td>Woburn</td>\n    </tr>\n  </tbody>\n</table>\n</div>",
                        "text/plain": "  Postalcode         Borough                            Neighborhood\n0      M1A\\n  Not assigned\\n                          Not assigned\\n\n1      M1B\\n   Scarborough\\n                          Malvern, Rouge\n2      M1C\\n   Scarborough\\n  Rouge Hill, Port Union, Highland Creek\n3      M1E\\n   Scarborough\\n       Guildwood, Morningside, West Hill\n4      M1G\\n   Scarborough\\n                                  Woburn"
                    },
                    "execution_count": 16,
                    "metadata": {},
                    "output_type": "execute_result"
                }
            ],
            "source": "df = pd.read_csv('toronto.csv')\ndf.head()"
        },
        {
            "cell_type": "code",
            "execution_count": 18,
            "metadata": {},
            "outputs": [
                {
                    "data": {
                        "text/plain": "[43.70909000000006, -79.36409999999995]"
                    },
                    "execution_count": 18,
                    "metadata": {},
                    "output_type": "execute_result"
                }
            ],
            "source": "def get_latilong(postal_code):\n    lati_long_coords = None\n    while(lati_long_coords is None):\n        g = geocoder.arcgis('{}, Toronto, Ontario'.format(postal_code))\n        lati_long_coords = g.latlng\n    return lati_long_coords\n    \nget_latilong('M4G')"
        },
        {
            "cell_type": "code",
            "execution_count": 19,
            "metadata": {},
            "outputs": [],
            "source": "postal_codes = df['Postalcode']    \ncoords = [ get_latilong(postal_code) for postal_code in postal_codes.tolist() ]"
        },
        {
            "cell_type": "code",
            "execution_count": 20,
            "metadata": {},
            "outputs": [],
            "source": "df_coords = pd.DataFrame(coords, columns=['Latitude', 'Longitude'])\ndf['Latitude'] = df_coords['Latitude']\ndf['Longitude'] = df_coords['Longitude']"
        },
        {
            "cell_type": "code",
            "execution_count": 27,
            "metadata": {},
            "outputs": [
                {
                    "data": {
                        "text/html": "<div>\n<style scoped>\n    .dataframe tbody tr th:only-of-type {\n        vertical-align: middle;\n    }\n\n    .dataframe tbody tr th {\n        vertical-align: top;\n    }\n\n    .dataframe thead th {\n        text-align: right;\n    }\n</style>\n<table border=\"1\" class=\"dataframe\">\n  <thead>\n    <tr style=\"text-align: right;\">\n      <th></th>\n      <th>Postalcode</th>\n      <th>Borough</th>\n      <th>Neighborhood</th>\n      <th>Latitude</th>\n      <th>Longitude</th>\n    </tr>\n  </thead>\n  <tbody>\n    <tr>\n      <th>84</th>\n      <td>M5G\\n</td>\n      <td>Downtown Toronto\\n</td>\n      <td>Central Bay Street</td>\n      <td>43.65609</td>\n      <td>-79.38493</td>\n    </tr>\n  </tbody>\n</table>\n</div>",
                        "text/plain": "   Postalcode             Borough        Neighborhood  Latitude  Longitude\n84      M5G\\n  Downtown Toronto\\n  Central Bay Street  43.65609  -79.38493"
                    },
                    "execution_count": 27,
                    "metadata": {},
                    "output_type": "execute_result"
                }
            ],
            "source": "df[df.Postalcode == 'M5G\\n']"
        },
        {
            "cell_type": "code",
            "execution_count": 26,
            "metadata": {},
            "outputs": [
                {
                    "data": {
                        "text/html": "<div>\n<style scoped>\n    .dataframe tbody tr th:only-of-type {\n        vertical-align: middle;\n    }\n\n    .dataframe tbody tr th {\n        vertical-align: top;\n    }\n\n    .dataframe thead th {\n        text-align: right;\n    }\n</style>\n<table border=\"1\" class=\"dataframe\">\n  <thead>\n    <tr style=\"text-align: right;\">\n      <th></th>\n      <th>Postalcode</th>\n      <th>Borough</th>\n      <th>Neighborhood</th>\n      <th>Latitude</th>\n      <th>Longitude</th>\n    </tr>\n  </thead>\n  <tbody>\n    <tr>\n      <th>0</th>\n      <td>M1A\\n</td>\n      <td>Not assigned\\n</td>\n      <td>Not assigned\\n</td>\n      <td>43.64869</td>\n      <td>-79.38544</td>\n    </tr>\n    <tr>\n      <th>1</th>\n      <td>M1B\\n</td>\n      <td>Scarborough\\n</td>\n      <td>Malvern, Rouge</td>\n      <td>43.81153</td>\n      <td>-79.19552</td>\n    </tr>\n    <tr>\n      <th>2</th>\n      <td>M1C\\n</td>\n      <td>Scarborough\\n</td>\n      <td>Rouge Hill, Port Union, Highland Creek</td>\n      <td>43.78564</td>\n      <td>-79.15871</td>\n    </tr>\n    <tr>\n      <th>3</th>\n      <td>M1E\\n</td>\n      <td>Scarborough\\n</td>\n      <td>Guildwood, Morningside, West Hill</td>\n      <td>43.76575</td>\n      <td>-79.17520</td>\n    </tr>\n    <tr>\n      <th>4</th>\n      <td>M1G\\n</td>\n      <td>Scarborough\\n</td>\n      <td>Woburn</td>\n      <td>43.76820</td>\n      <td>-79.21761</td>\n    </tr>\n    <tr>\n      <th>5</th>\n      <td>M1H\\n</td>\n      <td>Scarborough\\n</td>\n      <td>Cedarbrae</td>\n      <td>43.76969</td>\n      <td>-79.23944</td>\n    </tr>\n    <tr>\n      <th>6</th>\n      <td>M1J\\n</td>\n      <td>Scarborough\\n</td>\n      <td>Scarborough Village</td>\n      <td>43.74309</td>\n      <td>-79.23526</td>\n    </tr>\n    <tr>\n      <th>7</th>\n      <td>M1K\\n</td>\n      <td>Scarborough\\n</td>\n      <td>Kennedy Park, Ionview, East Birchmount Park</td>\n      <td>43.72861</td>\n      <td>-79.26367</td>\n    </tr>\n    <tr>\n      <th>8</th>\n      <td>M1L\\n</td>\n      <td>Scarborough\\n</td>\n      <td>Golden Mile, Clairlea, Oakridge</td>\n      <td>43.71406</td>\n      <td>-79.28412</td>\n    </tr>\n    <tr>\n      <th>9</th>\n      <td>M1M\\n</td>\n      <td>Scarborough\\n</td>\n      <td>Cliffside, Cliffcrest, Scarborough Village West</td>\n      <td>43.72360</td>\n      <td>-79.23496</td>\n    </tr>\n    <tr>\n      <th>10</th>\n      <td>M1N\\n</td>\n      <td>Scarborough\\n</td>\n      <td>Birch Cliff, Cliffside West</td>\n      <td>43.69539</td>\n      <td>-79.26194</td>\n    </tr>\n    <tr>\n      <th>11</th>\n      <td>M1P\\n</td>\n      <td>Scarborough\\n</td>\n      <td>Dorset Park, Wexford Heights, Scarborough Town...</td>\n      <td>43.75998</td>\n      <td>-79.26837</td>\n    </tr>\n    <tr>\n      <th>12</th>\n      <td>M1R\\n</td>\n      <td>Scarborough\\n</td>\n      <td>Wexford, Maryvale</td>\n      <td>43.75071</td>\n      <td>-79.30056</td>\n    </tr>\n    <tr>\n      <th>13</th>\n      <td>M1S\\n</td>\n      <td>Scarborough\\n</td>\n      <td>Agincourt</td>\n      <td>43.79394</td>\n      <td>-79.26711</td>\n    </tr>\n    <tr>\n      <th>14</th>\n      <td>M1T\\n</td>\n      <td>Scarborough\\n</td>\n      <td>Clarks Corners, Tam O'Shanter, Sullivan</td>\n      <td>43.78473</td>\n      <td>-79.29937</td>\n    </tr>\n    <tr>\n      <th>15</th>\n      <td>M1V\\n</td>\n      <td>Scarborough\\n</td>\n      <td>Milliken, Agincourt North, Steeles East, L'Amo...</td>\n      <td>43.81781</td>\n      <td>-79.28024</td>\n    </tr>\n    <tr>\n      <th>16</th>\n      <td>M1W\\n</td>\n      <td>Scarborough\\n</td>\n      <td>Steeles West, L'Amoreaux West</td>\n      <td>43.80052</td>\n      <td>-79.32074</td>\n    </tr>\n    <tr>\n      <th>17</th>\n      <td>M1X\\n</td>\n      <td>Scarborough\\n</td>\n      <td>Upper Rouge</td>\n      <td>43.83422</td>\n      <td>-79.21670</td>\n    </tr>\n    <tr>\n      <th>18</th>\n      <td>M1Y\\n</td>\n      <td>Not assigned\\n</td>\n      <td>Not assigned\\n</td>\n      <td>43.64869</td>\n      <td>-79.38544</td>\n    </tr>\n    <tr>\n      <th>19</th>\n      <td>M1Z\\n</td>\n      <td>Not assigned\\n</td>\n      <td>Not assigned\\n</td>\n      <td>43.64869</td>\n      <td>-79.38544</td>\n    </tr>\n    <tr>\n      <th>20</th>\n      <td>M2A\\n</td>\n      <td>Not assigned\\n</td>\n      <td>Not assigned\\n</td>\n      <td>43.64869</td>\n      <td>-79.38544</td>\n    </tr>\n    <tr>\n      <th>21</th>\n      <td>M2B\\n</td>\n      <td>Not assigned\\n</td>\n      <td>Not assigned\\n</td>\n      <td>43.64869</td>\n      <td>-79.38544</td>\n    </tr>\n    <tr>\n      <th>22</th>\n      <td>M2C\\n</td>\n      <td>Not assigned\\n</td>\n      <td>Not assigned\\n</td>\n      <td>43.64869</td>\n      <td>-79.38544</td>\n    </tr>\n    <tr>\n      <th>23</th>\n      <td>M2E\\n</td>\n      <td>Not assigned\\n</td>\n      <td>Not assigned\\n</td>\n      <td>43.64869</td>\n      <td>-79.38544</td>\n    </tr>\n    <tr>\n      <th>24</th>\n      <td>M2G\\n</td>\n      <td>Not assigned\\n</td>\n      <td>Not assigned\\n</td>\n      <td>43.64869</td>\n      <td>-79.38544</td>\n    </tr>\n    <tr>\n      <th>25</th>\n      <td>M2H\\n</td>\n      <td>North York\\n</td>\n      <td>Hillcrest Village</td>\n      <td>43.80285</td>\n      <td>-79.35621</td>\n    </tr>\n    <tr>\n      <th>26</th>\n      <td>M2J\\n</td>\n      <td>North York\\n</td>\n      <td>Fairview, Henry Farm, Oriole</td>\n      <td>43.78097</td>\n      <td>-79.34781</td>\n    </tr>\n    <tr>\n      <th>27</th>\n      <td>M2K\\n</td>\n      <td>North York\\n</td>\n      <td>Bayview Village</td>\n      <td>43.78102</td>\n      <td>-79.38060</td>\n    </tr>\n    <tr>\n      <th>28</th>\n      <td>M2L\\n</td>\n      <td>North York\\n</td>\n      <td>York Mills, Silver Hills</td>\n      <td>43.75722</td>\n      <td>-79.37974</td>\n    </tr>\n    <tr>\n      <th>29</th>\n      <td>M2M\\n</td>\n      <td>North York\\n</td>\n      <td>Willowdale, Newtonbrook</td>\n      <td>43.79135</td>\n      <td>-79.41356</td>\n    </tr>\n    <tr>\n      <th>...</th>\n      <td>...</td>\n      <td>...</td>\n      <td>...</td>\n      <td>...</td>\n      <td>...</td>\n    </tr>\n    <tr>\n      <th>70</th>\n      <td>M4N\\n</td>\n      <td>Central Toronto\\n</td>\n      <td>Lawrence Park</td>\n      <td>43.72898</td>\n      <td>-79.39173</td>\n    </tr>\n    <tr>\n      <th>71</th>\n      <td>M4P\\n</td>\n      <td>Central Toronto\\n</td>\n      <td>Davisville North</td>\n      <td>43.71276</td>\n      <td>-79.38851</td>\n    </tr>\n    <tr>\n      <th>72</th>\n      <td>M4R\\n</td>\n      <td>Central Toronto\\n</td>\n      <td>North Toronto West,  Lawrence Park</td>\n      <td>43.71452</td>\n      <td>-79.40696</td>\n    </tr>\n    <tr>\n      <th>73</th>\n      <td>M4S\\n</td>\n      <td>Central Toronto\\n</td>\n      <td>Davisville</td>\n      <td>43.70340</td>\n      <td>-79.38596</td>\n    </tr>\n    <tr>\n      <th>74</th>\n      <td>M4T\\n</td>\n      <td>Central Toronto\\n</td>\n      <td>Moore Park, Summerhill East</td>\n      <td>43.69066</td>\n      <td>-79.38356</td>\n    </tr>\n    <tr>\n      <th>75</th>\n      <td>M4V\\n</td>\n      <td>Central Toronto\\n</td>\n      <td>Summerhill West, Rathnelly, South Hill, Forest...</td>\n      <td>43.68569</td>\n      <td>-79.40232</td>\n    </tr>\n    <tr>\n      <th>76</th>\n      <td>M4W\\n</td>\n      <td>Downtown Toronto\\n</td>\n      <td>Rosedale</td>\n      <td>43.68190</td>\n      <td>-79.37850</td>\n    </tr>\n    <tr>\n      <th>77</th>\n      <td>M4X\\n</td>\n      <td>Downtown Toronto\\n</td>\n      <td>St. James Town, Cabbagetown</td>\n      <td>43.66788</td>\n      <td>-79.36649</td>\n    </tr>\n    <tr>\n      <th>78</th>\n      <td>M4Y\\n</td>\n      <td>Downtown Toronto\\n</td>\n      <td>Church and Wellesley</td>\n      <td>43.66659</td>\n      <td>-79.38130</td>\n    </tr>\n    <tr>\n      <th>79</th>\n      <td>M4Z\\n</td>\n      <td>Not assigned\\n</td>\n      <td>Not assigned\\n</td>\n      <td>43.64869</td>\n      <td>-79.38544</td>\n    </tr>\n    <tr>\n      <th>80</th>\n      <td>M5A\\n</td>\n      <td>Downtown Toronto\\n</td>\n      <td>Regent Park, Harbourfront</td>\n      <td>43.65514</td>\n      <td>-79.36265</td>\n    </tr>\n    <tr>\n      <th>81</th>\n      <td>M5B\\n</td>\n      <td>Downtown Toronto\\n</td>\n      <td>Garden District, Ryerson</td>\n      <td>43.65736</td>\n      <td>-79.37818</td>\n    </tr>\n    <tr>\n      <th>82</th>\n      <td>M5C\\n</td>\n      <td>Downtown Toronto\\n</td>\n      <td>St. James Town</td>\n      <td>43.65143</td>\n      <td>-79.37557</td>\n    </tr>\n    <tr>\n      <th>83</th>\n      <td>M5E\\n</td>\n      <td>Downtown Toronto\\n</td>\n      <td>Berczy Park</td>\n      <td>43.64531</td>\n      <td>-79.37368</td>\n    </tr>\n    <tr>\n      <th>84</th>\n      <td>M5G\\n</td>\n      <td>Downtown Toronto\\n</td>\n      <td>Central Bay Street</td>\n      <td>43.65609</td>\n      <td>-79.38493</td>\n    </tr>\n    <tr>\n      <th>85</th>\n      <td>M5H\\n</td>\n      <td>Downtown Toronto\\n</td>\n      <td>Richmond, Adelaide, King</td>\n      <td>43.64970</td>\n      <td>-79.38258</td>\n    </tr>\n    <tr>\n      <th>86</th>\n      <td>M5J\\n</td>\n      <td>Downtown Toronto\\n</td>\n      <td>Harbourfront East, Union Station, Toronto Islands</td>\n      <td>43.64285</td>\n      <td>-79.38040</td>\n    </tr>\n    <tr>\n      <th>87</th>\n      <td>M5K\\n</td>\n      <td>Downtown Toronto\\n</td>\n      <td>Toronto Dominion Centre, Design Exchange</td>\n      <td>43.64710</td>\n      <td>-79.38153</td>\n    </tr>\n    <tr>\n      <th>88</th>\n      <td>M5L\\n</td>\n      <td>Downtown Toronto\\n</td>\n      <td>Commerce Court, Victoria Hotel</td>\n      <td>43.64823</td>\n      <td>-79.37890</td>\n    </tr>\n    <tr>\n      <th>89</th>\n      <td>M5M\\n</td>\n      <td>North York\\n</td>\n      <td>Bedford Park, Lawrence Manor East</td>\n      <td>43.73546</td>\n      <td>-79.41915</td>\n    </tr>\n    <tr>\n      <th>90</th>\n      <td>M5N\\n</td>\n      <td>Central Toronto\\n</td>\n      <td>Roselawn</td>\n      <td>43.71194</td>\n      <td>-79.41912</td>\n    </tr>\n    <tr>\n      <th>91</th>\n      <td>M5P\\n</td>\n      <td>Central Toronto\\n</td>\n      <td>Forest Hill North &amp; West, Forest Hill Road Park</td>\n      <td>43.69479</td>\n      <td>-79.41440</td>\n    </tr>\n    <tr>\n      <th>92</th>\n      <td>M5R\\n</td>\n      <td>Central Toronto\\n</td>\n      <td>The Annex, North Midtown, Yorkville</td>\n      <td>43.67484</td>\n      <td>-79.40185</td>\n    </tr>\n    <tr>\n      <th>93</th>\n      <td>M5S\\n</td>\n      <td>Downtown Toronto\\n</td>\n      <td>University of Toronto, Harbord</td>\n      <td>43.66311</td>\n      <td>-79.40180</td>\n    </tr>\n    <tr>\n      <th>94</th>\n      <td>M5T\\n</td>\n      <td>Downtown Toronto\\n</td>\n      <td>Kensington Market, Chinatown, Grange Park</td>\n      <td>43.65351</td>\n      <td>-79.39722</td>\n    </tr>\n    <tr>\n      <th>95</th>\n      <td>M5V\\n</td>\n      <td>Downtown Toronto\\n</td>\n      <td>CN Tower, King and Spadina, Railway Lands, Har...</td>\n      <td>43.64082</td>\n      <td>-79.39956</td>\n    </tr>\n    <tr>\n      <th>96</th>\n      <td>M5W\\n</td>\n      <td>Downtown Toronto\\n</td>\n      <td>Stn A PO Boxes</td>\n      <td>43.64869</td>\n      <td>-79.38544</td>\n    </tr>\n    <tr>\n      <th>97</th>\n      <td>M5X\\n</td>\n      <td>Downtown Toronto\\n</td>\n      <td>First Canadian Place, Underground city</td>\n      <td>43.64828</td>\n      <td>-79.38146</td>\n    </tr>\n    <tr>\n      <th>98</th>\n      <td>M5Y\\n</td>\n      <td>Not assigned\\n</td>\n      <td>Not assigned\\n</td>\n      <td>43.64869</td>\n      <td>-79.38544</td>\n    </tr>\n    <tr>\n      <th>99</th>\n      <td>M5Z\\n</td>\n      <td>Not assigned\\n</td>\n      <td>Not assigned\\n</td>\n      <td>43.64869</td>\n      <td>-79.38544</td>\n    </tr>\n  </tbody>\n</table>\n<p>100 rows \u00d7 5 columns</p>\n</div>",
                        "text/plain": "   Postalcode             Borough  \\\n0       M1A\\n      Not assigned\\n   \n1       M1B\\n       Scarborough\\n   \n2       M1C\\n       Scarborough\\n   \n3       M1E\\n       Scarborough\\n   \n4       M1G\\n       Scarborough\\n   \n5       M1H\\n       Scarborough\\n   \n6       M1J\\n       Scarborough\\n   \n7       M1K\\n       Scarborough\\n   \n8       M1L\\n       Scarborough\\n   \n9       M1M\\n       Scarborough\\n   \n10      M1N\\n       Scarborough\\n   \n11      M1P\\n       Scarborough\\n   \n12      M1R\\n       Scarborough\\n   \n13      M1S\\n       Scarborough\\n   \n14      M1T\\n       Scarborough\\n   \n15      M1V\\n       Scarborough\\n   \n16      M1W\\n       Scarborough\\n   \n17      M1X\\n       Scarborough\\n   \n18      M1Y\\n      Not assigned\\n   \n19      M1Z\\n      Not assigned\\n   \n20      M2A\\n      Not assigned\\n   \n21      M2B\\n      Not assigned\\n   \n22      M2C\\n      Not assigned\\n   \n23      M2E\\n      Not assigned\\n   \n24      M2G\\n      Not assigned\\n   \n25      M2H\\n        North York\\n   \n26      M2J\\n        North York\\n   \n27      M2K\\n        North York\\n   \n28      M2L\\n        North York\\n   \n29      M2M\\n        North York\\n   \n..        ...                 ...   \n70      M4N\\n   Central Toronto\\n   \n71      M4P\\n   Central Toronto\\n   \n72      M4R\\n   Central Toronto\\n   \n73      M4S\\n   Central Toronto\\n   \n74      M4T\\n   Central Toronto\\n   \n75      M4V\\n   Central Toronto\\n   \n76      M4W\\n  Downtown Toronto\\n   \n77      M4X\\n  Downtown Toronto\\n   \n78      M4Y\\n  Downtown Toronto\\n   \n79      M4Z\\n      Not assigned\\n   \n80      M5A\\n  Downtown Toronto\\n   \n81      M5B\\n  Downtown Toronto\\n   \n82      M5C\\n  Downtown Toronto\\n   \n83      M5E\\n  Downtown Toronto\\n   \n84      M5G\\n  Downtown Toronto\\n   \n85      M5H\\n  Downtown Toronto\\n   \n86      M5J\\n  Downtown Toronto\\n   \n87      M5K\\n  Downtown Toronto\\n   \n88      M5L\\n  Downtown Toronto\\n   \n89      M5M\\n        North York\\n   \n90      M5N\\n   Central Toronto\\n   \n91      M5P\\n   Central Toronto\\n   \n92      M5R\\n   Central Toronto\\n   \n93      M5S\\n  Downtown Toronto\\n   \n94      M5T\\n  Downtown Toronto\\n   \n95      M5V\\n  Downtown Toronto\\n   \n96      M5W\\n  Downtown Toronto\\n   \n97      M5X\\n  Downtown Toronto\\n   \n98      M5Y\\n      Not assigned\\n   \n99      M5Z\\n      Not assigned\\n   \n\n                                         Neighborhood  Latitude  Longitude  \n0                                      Not assigned\\n  43.64869  -79.38544  \n1                                      Malvern, Rouge  43.81153  -79.19552  \n2              Rouge Hill, Port Union, Highland Creek  43.78564  -79.15871  \n3                   Guildwood, Morningside, West Hill  43.76575  -79.17520  \n4                                              Woburn  43.76820  -79.21761  \n5                                           Cedarbrae  43.76969  -79.23944  \n6                                 Scarborough Village  43.74309  -79.23526  \n7         Kennedy Park, Ionview, East Birchmount Park  43.72861  -79.26367  \n8                     Golden Mile, Clairlea, Oakridge  43.71406  -79.28412  \n9     Cliffside, Cliffcrest, Scarborough Village West  43.72360  -79.23496  \n10                        Birch Cliff, Cliffside West  43.69539  -79.26194  \n11  Dorset Park, Wexford Heights, Scarborough Town...  43.75998  -79.26837  \n12                                  Wexford, Maryvale  43.75071  -79.30056  \n13                                          Agincourt  43.79394  -79.26711  \n14            Clarks Corners, Tam O'Shanter, Sullivan  43.78473  -79.29937  \n15  Milliken, Agincourt North, Steeles East, L'Amo...  43.81781  -79.28024  \n16                      Steeles West, L'Amoreaux West  43.80052  -79.32074  \n17                                        Upper Rouge  43.83422  -79.21670  \n18                                     Not assigned\\n  43.64869  -79.38544  \n19                                     Not assigned\\n  43.64869  -79.38544  \n20                                     Not assigned\\n  43.64869  -79.38544  \n21                                     Not assigned\\n  43.64869  -79.38544  \n22                                     Not assigned\\n  43.64869  -79.38544  \n23                                     Not assigned\\n  43.64869  -79.38544  \n24                                     Not assigned\\n  43.64869  -79.38544  \n25                                  Hillcrest Village  43.80285  -79.35621  \n26                       Fairview, Henry Farm, Oriole  43.78097  -79.34781  \n27                                    Bayview Village  43.78102  -79.38060  \n28                           York Mills, Silver Hills  43.75722  -79.37974  \n29                            Willowdale, Newtonbrook  43.79135  -79.41356  \n..                                                ...       ...        ...  \n70                                      Lawrence Park  43.72898  -79.39173  \n71                                   Davisville North  43.71276  -79.38851  \n72                 North Toronto West,  Lawrence Park  43.71452  -79.40696  \n73                                         Davisville  43.70340  -79.38596  \n74                        Moore Park, Summerhill East  43.69066  -79.38356  \n75  Summerhill West, Rathnelly, South Hill, Forest...  43.68569  -79.40232  \n76                                           Rosedale  43.68190  -79.37850  \n77                        St. James Town, Cabbagetown  43.66788  -79.36649  \n78                               Church and Wellesley  43.66659  -79.38130  \n79                                     Not assigned\\n  43.64869  -79.38544  \n80                          Regent Park, Harbourfront  43.65514  -79.36265  \n81                           Garden District, Ryerson  43.65736  -79.37818  \n82                                     St. James Town  43.65143  -79.37557  \n83                                        Berczy Park  43.64531  -79.37368  \n84                                 Central Bay Street  43.65609  -79.38493  \n85                           Richmond, Adelaide, King  43.64970  -79.38258  \n86  Harbourfront East, Union Station, Toronto Islands  43.64285  -79.38040  \n87           Toronto Dominion Centre, Design Exchange  43.64710  -79.38153  \n88                     Commerce Court, Victoria Hotel  43.64823  -79.37890  \n89                  Bedford Park, Lawrence Manor East  43.73546  -79.41915  \n90                                           Roselawn  43.71194  -79.41912  \n91    Forest Hill North & West, Forest Hill Road Park  43.69479  -79.41440  \n92                The Annex, North Midtown, Yorkville  43.67484  -79.40185  \n93                     University of Toronto, Harbord  43.66311  -79.40180  \n94          Kensington Market, Chinatown, Grange Park  43.65351  -79.39722  \n95  CN Tower, King and Spadina, Railway Lands, Har...  43.64082  -79.39956  \n96                                     Stn A PO Boxes  43.64869  -79.38544  \n97             First Canadian Place, Underground city  43.64828  -79.38146  \n98                                     Not assigned\\n  43.64869  -79.38544  \n99                                     Not assigned\\n  43.64869  -79.38544  \n\n[100 rows x 5 columns]"
                    },
                    "execution_count": 26,
                    "metadata": {},
                    "output_type": "execute_result"
                }
            ],
            "source": "df.head(100)"
        },
        {
            "cell_type": "code",
            "execution_count": null,
            "metadata": {},
            "outputs": [],
            "source": ""
        }
    ],
    "metadata": {
        "kernelspec": {
            "display_name": "Python 3.6",
            "language": "python",
            "name": "python3"
        },
        "language_info": {
            "codemirror_mode": {
                "name": "ipython",
                "version": 3
            },
            "file_extension": ".py",
            "mimetype": "text/x-python",
            "name": "python",
            "nbconvert_exporter": "python",
            "pygments_lexer": "ipython3",
            "version": "3.6.9"
        }
    },
    "nbformat": 4,
    "nbformat_minor": 1
}